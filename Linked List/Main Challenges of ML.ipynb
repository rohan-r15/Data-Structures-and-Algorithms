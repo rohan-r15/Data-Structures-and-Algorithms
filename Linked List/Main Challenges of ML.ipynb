{
 "cells": [
  {
   "cell_type": "markdown",
   "id": "noble-september",
   "metadata": {},
   "source": [
    "---\n",
    "# Main Challenges of Machine Learning\n",
    "---"
   ]
  },
  {
   "cell_type": "markdown",
   "id": "frozen-visit",
   "metadata": {},
   "source": [
    "<div class=\"alert alert-block alert-success\"><p style='font-weight:bold;font-size:35px;text-align:center'>Contents</p></div>\n",
    "<div class=\"list-group\" style='font-size:20px'>\n",
    "    <a class=\"list-group-item list-group-item-action\" href='#IQTD'>Insufficient Quantity of Training Data</a>\n",
    "    <a class=\"list-group-item list-group-item-action\" href=\"#NRTD\">Non-Representative Training Data</a>\n",
    "    <a class=\"list-group-item list-group-item-action\" href=\"#PQD\">Poor-Quality Data</a>\n",
    "    <a class=\"list-group-item list-group-item-action\" href=\"#IF\">Irrelevant Features</a>\n",
    "    <a class=\"list-group-item list-group-item-action\" href=\"#OTD\">Overfitting the Training Data</a>\n",
    "    <a class=\"list-group-item list-group-item-action\" href=\"#UTD\">Underfitting the Training Data</a>\n",
    "   \n",
    "    \n",
    "</div>"
   ]
  },
  {
   "cell_type": "markdown",
   "id": "disabled-chinese",
   "metadata": {},
   "source": [
    "<div class='alert alert-block alert-info' id='IQTD'><p style=\"color:black;font-weight:bold;font-size:20px\">Insufficient Quantity of Training Data</p></div>"
   ]
  },
  {
   "cell_type": "markdown",
   "id": "floral-grade",
   "metadata": {},
   "source": [
    "<div class='alert alert-block alert-info' id='NRTD'>\n",
    "    <p style=\"color:black;font-weight:bold;font-size:20px\">Non-Representative Training Data</p>\n",
    "</div>"
   ]
  },
  {
   "cell_type": "markdown",
   "id": "prepared-clark",
   "metadata": {},
   "source": [
    "<div class='alert alert-block alert-info' id='PQD'>\n",
    "    <p style=\"color:black;font-weight:bold;font-size:20px\">Poor-Quality Data</p>\n",
    "</div>"
   ]
  },
  {
   "cell_type": "markdown",
   "id": "formed-professor",
   "metadata": {},
   "source": [
    "<div class='alert alert-block alert-info' id='IF'>\n",
    "    <p style=\"color:black;font-weight:bold;font-size:20px\">Irrelevant Features</p>\n",
    "</div>"
   ]
  },
  {
   "cell_type": "code",
   "execution_count": null,
   "id": "bulgarian-cycle",
   "metadata": {},
   "outputs": [],
   "source": [
    "# welocoe"
   ]
  },
  {
   "cell_type": "markdown",
   "id": "deadly-doubt",
   "metadata": {},
   "source": [
    "<div class='alert alert-block alert-info' id='OTD'>\n",
    "    <p style=\"color:black;font-weight:bold;font-size:20px\">Overfitting the Training Data</p>\n",
    "</div>"
   ]
  },
  {
   "cell_type": "markdown",
   "id": "healthy-elder",
   "metadata": {},
   "source": [
    "<div class='alert alert-block alert-info' id='UTD'>\n",
    "    <p style=\"color:black;font-weight:bold;font-size:20px\">Underfitting the Training Data</p>\n",
    "</div>"
   ]
  },
  {
   "cell_type": "code",
   "execution_count": null,
   "id": "romance-outdoors",
   "metadata": {},
   "outputs": [],
   "source": [
    "import pandas as pd\n",
    "import numpy as np\n",
    "import matplotlib.pyplot as plt\n",
    "import seaborn as sns\n",
    "%matplotlib inline"
   ]
  },
  {
   "cell_type": "code",
   "execution_count": null,
   "id": "premier-marine",
   "metadata": {},
   "outputs": [],
   "source": []
  },
  {
   "cell_type": "code",
   "execution_count": null,
   "id": "going-heater",
   "metadata": {},
   "outputs": [],
   "source": []
  },
  {
   "cell_type": "code",
   "execution_count": null,
   "id": "supported-baghdad",
   "metadata": {},
   "outputs": [],
   "source": []
  },
  {
   "cell_type": "code",
   "execution_count": null,
   "id": "confident-warrior",
   "metadata": {},
   "outputs": [],
   "source": []
  }
 ],
 "metadata": {
  "kernelspec": {
   "display_name": "Python 3",
   "language": "python",
   "name": "python3"
  },
  "language_info": {
   "codemirror_mode": {
    "name": "ipython",
    "version": 3
   },
   "file_extension": ".py",
   "mimetype": "text/x-python",
   "name": "python",
   "nbconvert_exporter": "python",
   "pygments_lexer": "ipython3",
   "version": "3.7.4"
  }
 },
 "nbformat": 4,
 "nbformat_minor": 5
}
